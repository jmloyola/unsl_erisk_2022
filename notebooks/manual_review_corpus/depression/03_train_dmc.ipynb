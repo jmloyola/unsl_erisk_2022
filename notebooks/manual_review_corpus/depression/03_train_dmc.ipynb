{
 "cells": [
  {
   "cell_type": "code",
   "execution_count": null,
   "id": "a581970d",
   "metadata": {},
   "outputs": [],
   "source": [
    "import json\n",
    "import os\n",
    "import pickle\n",
    "import sys\n",
    "\n",
    "from matplotlib import pyplot as plt\n",
    "from sklearn.metrics import classification_report\n",
    "from sklearn.model_selection import GridSearchCV, GroupKFold\n",
    "from sklearn.tree import DecisionTreeClassifier, plot_tree\n",
    "\n",
    "module_path = os.path.abspath(os.path.join(\"../../..\"))\n",
    "if module_path not in sys.path:\n",
    "    sys.path.append(module_path)\n",
    "\n",
    "from src.config import PATH_INTERIM_CORPUS  # noqa: E402\n",
    "from src.config import PATH_BEST_MODELS, PICKLE_PROTOCOL  # noqa: E402"
   ]
  },
  {
   "cell_type": "code",
   "execution_count": null,
   "id": "67f7dee5",
   "metadata": {},
   "outputs": [],
   "source": [
    "INTERIM_DATASETS_PATH = os.path.join(PATH_INTERIM_CORPUS, \"xml/depression\")"
   ]
  },
  {
   "cell_type": "code",
   "execution_count": null,
   "id": "b83ca81e",
   "metadata": {},
   "outputs": [],
   "source": [
    "dmc_corpus_train = os.path.join(INTERIM_DATASETS_PATH, \"depression-dmc-train.pkl\")\n",
    "\n",
    "with open(dmc_corpus_train, \"rb\") as fp:\n",
    "    x_train, y_train, groups_train = pickle.load(fp)"
   ]
  },
  {
   "cell_type": "code",
   "execution_count": null,
   "id": "6a98c206",
   "metadata": {},
   "outputs": [],
   "source": [
    "dmc_corpus_test = os.path.join(INTERIM_DATASETS_PATH, \"depression-dmc-test.pkl\")\n",
    "\n",
    "with open(dmc_corpus_test, \"rb\") as fp:\n",
    "    x_test, y_test, _ = pickle.load(fp)"
   ]
  },
  {
   "cell_type": "code",
   "execution_count": null,
   "id": "ea25a8ad",
   "metadata": {},
   "outputs": [],
   "source": [
    "dtc = DecisionTreeClassifier(random_state=0)"
   ]
  },
  {
   "cell_type": "code",
   "execution_count": null,
   "id": "67aea0b6",
   "metadata": {},
   "outputs": [],
   "source": [
    "# Set the parameters by cross-validation\n",
    "parameters = {\n",
    "    \"criterion\": [\"gini\", \"entropy\"],\n",
    "    \"splitter\": [\"best\", \"random\"],\n",
    "    \"max_depth\": [3, 4],\n",
    "    \"min_samples_leaf\": [1, 0.1, 10],\n",
    "    \"random_state\": [42],\n",
    "    \"class_weight\": [None, \"balanced\"],\n",
    "}"
   ]
  },
  {
   "cell_type": "code",
   "execution_count": null,
   "id": "b541d6e8",
   "metadata": {},
   "outputs": [],
   "source": [
    "gkf = GroupKFold(n_splits=21).split(x_train, y_train, groups_train)\n",
    "\n",
    "for train_index, test_index in gkf:\n",
    "    print(\n",
    "        sum(y_train[idx] for idx in train_index),\n",
    "        sum(y_train[idx] for idx in test_index),\n",
    "    )"
   ]
  },
  {
   "cell_type": "code",
   "execution_count": null,
   "id": "08b1f01e",
   "metadata": {
    "scrolled": false
   },
   "outputs": [],
   "source": [
    "gkf = GroupKFold(n_splits=21).split(x_train, y_train, groups_train)\n",
    "\n",
    "clf = GridSearchCV(dtc, parameters, cv=gkf, scoring=\"f1\")\n",
    "\n",
    "clf.fit(x_train, y_train)"
   ]
  },
  {
   "cell_type": "code",
   "execution_count": null,
   "id": "3d372c41",
   "metadata": {},
   "outputs": [],
   "source": [
    "clf.best_score_, clf.best_params_"
   ]
  },
  {
   "cell_type": "code",
   "execution_count": null,
   "id": "bae94704",
   "metadata": {},
   "outputs": [],
   "source": [
    "y_test_pred = clf.best_estimator_.predict(x_test)"
   ]
  },
  {
   "cell_type": "code",
   "execution_count": null,
   "id": "00d84913",
   "metadata": {},
   "outputs": [],
   "source": [
    "print(classification_report(y_test, y_test_pred))"
   ]
  },
  {
   "cell_type": "code",
   "execution_count": null,
   "id": "4d0b29d9",
   "metadata": {
    "scrolled": false
   },
   "outputs": [],
   "source": [
    "dmc_corpus_feature_names = os.path.join(\n",
    "    INTERIM_DATASETS_PATH, \"depression-dmc-feature-names.json\"\n",
    ")\n",
    "\n",
    "with open(dmc_corpus_feature_names) as fp:\n",
    "    feature_names = json.load(fp=fp)\n",
    "\n",
    "class_names = [\"negative\", \"positive\"]\n",
    "\n",
    "fig = plt.figure(figsize=(60, 30), facecolor=\"white\")\n",
    "plot_tree(\n",
    "    clf.best_estimator_,\n",
    "    feature_names=feature_names,\n",
    "    class_names=class_names,\n",
    "    filled=True,\n",
    "    proportion=True,\n",
    ")\n",
    "plt.show()"
   ]
  },
  {
   "cell_type": "code",
   "execution_count": null,
   "id": "2f74aec1",
   "metadata": {},
   "outputs": [],
   "source": [
    "# Save model\n",
    "model_path = os.path.join(\n",
    "    PATH_BEST_MODELS,\n",
    "    \"positive_f1/reddit/depression/selected_models/dmc_decision_tree.pkl\",\n",
    ")\n",
    "\n",
    "with open(model_path, \"wb\") as fp:\n",
    "    pickle.dump(clf.best_estimator_, fp, protocol=PICKLE_PROTOCOL)"
   ]
  }
 ],
 "metadata": {
  "kernelspec": {
   "display_name": "Python 3 (ipykernel)",
   "language": "python",
   "name": "python3"
  },
  "language_info": {
   "codemirror_mode": {
    "name": "ipython",
    "version": 3
   },
   "file_extension": ".py",
   "mimetype": "text/x-python",
   "name": "python",
   "nbconvert_exporter": "python",
   "pygments_lexer": "ipython3",
   "version": "3.7.8"
  }
 },
 "nbformat": 4,
 "nbformat_minor": 5
}
