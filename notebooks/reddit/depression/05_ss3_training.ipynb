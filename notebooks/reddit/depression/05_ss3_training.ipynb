{
 "cells": [
  {
   "cell_type": "code",
   "execution_count": 1,
   "id": "0395deb4",
   "metadata": {},
   "outputs": [],
   "source": [
    "import os\n",
    "import sys\n",
    "\n",
    "import sklearn.metrics as metrics\n",
    "from pyss3 import SS3\n",
    "from pyss3.server import Live_Test\n",
    "from pyss3.util import Evaluation, span\n",
    "\n",
    "module_path = os.path.abspath(os.path.join(\"../../..\"))\n",
    "if module_path not in sys.path:\n",
    "    sys.path.append(module_path)\n",
    "\n",
    "from src.config import END_OF_POST_TOKEN, PATH_INTERIM_CORPUS  # noqa: E402"
   ]
  },
  {
   "cell_type": "code",
   "execution_count": 2,
   "id": "88fffa2f",
   "metadata": {},
   "outputs": [],
   "source": [
    "CORPUS_KIND = \"reddit\"\n",
    "CORPUS_NAME = \"depression\""
   ]
  },
  {
   "cell_type": "code",
   "execution_count": 3,
   "id": "76dcf5e2",
   "metadata": {},
   "outputs": [],
   "source": [
    "input_file_path_train = os.path.join(\n",
    "    PATH_INTERIM_CORPUS, CORPUS_KIND, CORPUS_NAME, f\"{CORPUS_NAME}-train-raw.txt\"\n",
    ")\n",
    "input_file_path_test = os.path.join(\n",
    "    PATH_INTERIM_CORPUS, CORPUS_KIND, CORPUS_NAME, f\"{CORPUS_NAME}-test-raw.txt\"\n",
    ")"
   ]
  },
  {
   "cell_type": "code",
   "execution_count": 4,
   "id": "ed97ab35",
   "metadata": {},
   "outputs": [],
   "source": [
    "y_train = []\n",
    "x_train = []\n",
    "with open(input_file_path_train) as f:\n",
    "    for line in f:\n",
    "        label, document = line.split(maxsplit=1)\n",
    "        y_train.append(label)\n",
    "        posts = \" \".join(document.split(END_OF_POST_TOKEN))\n",
    "        x_train.append(posts)"
   ]
  },
  {
   "cell_type": "code",
   "execution_count": 5,
   "id": "45330504",
   "metadata": {},
   "outputs": [],
   "source": [
    "y_test = []\n",
    "x_test = []\n",
    "with open(input_file_path_test) as f:\n",
    "    for line in f:\n",
    "        label, document = line.split(maxsplit=1)\n",
    "        y_test.append(label)\n",
    "        posts = \" \".join(document.split(END_OF_POST_TOKEN))\n",
    "        x_test.append(posts)"
   ]
  },
  {
   "cell_type": "markdown",
   "id": "96667400",
   "metadata": {},
   "source": [
    "First train a base SS3 model. We can use the hyper-parameters found for more complex models later."
   ]
  },
  {
   "cell_type": "code",
   "execution_count": 6,
   "id": "a821171e",
   "metadata": {},
   "outputs": [],
   "source": [
    "clf = SS3(name=f\"{CORPUS_KIND}-{CORPUS_NAME}\")"
   ]
  },
  {
   "cell_type": "code",
   "execution_count": 7,
   "id": "88151040",
   "metadata": {},
   "outputs": [
    {
     "name": "stdout",
     "output_type": "stream",
     "text": [
      "Smoothness(s): 0.45\n",
      "Significance(l): 0.5\n",
      "Sanction(p): 1\n"
     ]
    }
   ],
   "source": [
    "s, l, p, _ = clf.get_hyperparameters()\n",
    "\n",
    "print(\"Smoothness(s):\", s)\n",
    "print(\"Significance(l):\", l)\n",
    "print(\"Sanction(p):\", p)"
   ]
  },
  {
   "cell_type": "code",
   "execution_count": 8,
   "id": "5786e50d",
   "metadata": {},
   "outputs": [
    {
     "name": "stderr",
     "output_type": "stream",
     "text": [
      "Training on 'positive': 100%|███████████████████████████████████████████| 2/2 [00:25<00:00, 12.82s/it]\n"
     ]
    }
   ],
   "source": [
    "clf.fit(x_train, y_train)"
   ]
  },
  {
   "cell_type": "code",
   "execution_count": 9,
   "id": "11ceebf7",
   "metadata": {},
   "outputs": [
    {
     "data": {
      "text/plain": [
       "['negative', 'positive']"
      ]
     },
     "execution_count": 9,
     "metadata": {},
     "output_type": "execute_result"
    }
   ],
   "source": [
    "clf.get_categories()"
   ]
  },
  {
   "cell_type": "code",
   "execution_count": 10,
   "id": "42a59fa8",
   "metadata": {},
   "outputs": [],
   "source": [
    "# Subset of values to search for each hyper-parameter.\n",
    "s_vals = span(0.2, 0.8, 6)  # [0.2 , 0.32, 0.44, 0.56, 0.68, 0.8]\n",
    "l_vals = span(0.1, 2, 6)  # [0.1 , 0.48, 0.86, 1.24, 1.62, 2]\n",
    "p_vals = span(0.5, 2, 6)  # [0.5, 0.8, 1.1, 1.4, 1.7, 2]"
   ]
  },
  {
   "cell_type": "code",
   "execution_count": 11,
   "id": "7445fe3f",
   "metadata": {},
   "outputs": [
    {
     "name": "stderr",
     "output_type": "stream",
     "text": [
      "[fold 12/12] Grid search: 100%|█████████████████████████████████████| 216/216 [03:29<00:00,  1.03it/s]\n"
     ]
    }
   ],
   "source": [
    "k_fold = 12\n",
    "best_s, best_l, best_p, _ = Evaluation.grid_search(\n",
    "    clf,\n",
    "    x_train,\n",
    "    y_train,\n",
    "    k_fold=k_fold,\n",
    "    s=s_vals,\n",
    "    l=l_vals,\n",
    "    p=p_vals,\n",
    "    cache=True,\n",
    "    tag=f\"grid search ({k_fold}-fold)\",\n",
    ")"
   ]
  },
  {
   "cell_type": "code",
   "execution_count": 12,
   "id": "457f55f7",
   "metadata": {},
   "outputs": [
    {
     "name": "stdout",
     "output_type": "stream",
     "text": [
      "The hyperparameter values that obtained the best accuracy are:\n",
      "Smoothness(s): 0.44\n",
      "Significance(l): 0.48\n",
      "Sanction(p): 0.5\n"
     ]
    }
   ],
   "source": [
    "print(\"The hyperparameter values that obtained the best accuracy are:\")\n",
    "print(\"Smoothness(s):\", best_s)\n",
    "print(\"Significance(l):\", best_l)\n",
    "print(\"Sanction(p):\", best_p)"
   ]
  },
  {
   "cell_type": "code",
   "execution_count": 13,
   "id": "913a3c1b",
   "metadata": {},
   "outputs": [
    {
     "name": "stdout",
     "output_type": "stream",
     "text": [
      "s=0.44, l=0.48, and p=0.50\n"
     ]
    }
   ],
   "source": [
    "best_s, best_l, best_p, _ = Evaluation.get_best_hyperparameters(\n",
    "    metric=\"f1-score\", metric_target=\"macro avg\"\n",
    ")\n",
    "\n",
    "print(f\"s={best_s:.2f}, l={best_l:.2f}, and p={best_p:.2f}\")"
   ]
  },
  {
   "cell_type": "code",
   "execution_count": 14,
   "id": "d199b01d",
   "metadata": {},
   "outputs": [],
   "source": [
    "clf.set_hyperparameters(s=best_s, l=best_l, p=best_p)"
   ]
  },
  {
   "cell_type": "code",
   "execution_count": 15,
   "id": "0536cb8b",
   "metadata": {},
   "outputs": [
    {
     "name": "stderr",
     "output_type": "stream",
     "text": [
      "Classification: 100%|███████████████████████████████████████████| 1121/1121 [00:00<00:00, 2238.31it/s]"
     ]
    },
    {
     "name": "stdout",
     "output_type": "stream",
     "text": [
      "              precision    recall  f1-score   support\n",
      "\n",
      "    negative       0.91      0.92      0.92       633\n",
      "    positive       0.90      0.88      0.89       488\n",
      "\n",
      "    accuracy                           0.90      1121\n",
      "   macro avg       0.90      0.90      0.90      1121\n",
      "weighted avg       0.90      0.90      0.90      1121\n",
      "\n",
      "[[584  49]\n",
      " [ 58 430]]\n"
     ]
    },
    {
     "name": "stderr",
     "output_type": "stream",
     "text": [
      "\n"
     ]
    }
   ],
   "source": [
    "y_pred = clf.predict(x_test)\n",
    "\n",
    "classification_report = metrics.classification_report(y_test, y_pred)\n",
    "confusion_matrix = metrics.confusion_matrix(y_test, y_pred)\n",
    "\n",
    "print(classification_report)\n",
    "print(confusion_matrix)"
   ]
  },
  {
   "cell_type": "markdown",
   "id": "cb6173ff",
   "metadata": {},
   "source": [
    "Train a SS3 model using 3-grams words with the hyper-parameters found earlier."
   ]
  },
  {
   "cell_type": "code",
   "execution_count": 16,
   "id": "6c247d2f",
   "metadata": {},
   "outputs": [],
   "source": [
    "clf_ngrams = SS3(name=f\"{CORPUS_KIND}-{CORPUS_NAME}-ngrams\")"
   ]
  },
  {
   "cell_type": "code",
   "execution_count": 17,
   "id": "0aecbeaf",
   "metadata": {},
   "outputs": [
    {
     "name": "stderr",
     "output_type": "stream",
     "text": [
      "Training on 'positive': 100%|███████████████████████████████████████████| 2/2 [00:46<00:00, 23.22s/it]\n"
     ]
    }
   ],
   "source": [
    "clf_ngrams.train(x_train, y_train, n_grams=3)"
   ]
  },
  {
   "cell_type": "code",
   "execution_count": 18,
   "id": "a7267d46",
   "metadata": {},
   "outputs": [
    {
     "name": "stderr",
     "output_type": "stream",
     "text": [
      "Classification: 100%|█████████████████████████████████████████████| 1121/1121 [01:57<00:00,  9.52it/s]"
     ]
    },
    {
     "name": "stdout",
     "output_type": "stream",
     "text": [
      "              precision    recall  f1-score   support\n",
      "\n",
      "    negative       0.91      0.92      0.91       633\n",
      "    positive       0.89      0.89      0.89       488\n",
      "\n",
      "    accuracy                           0.90      1121\n",
      "   macro avg       0.90      0.90      0.90      1121\n",
      "weighted avg       0.90      0.90      0.90      1121\n",
      "\n",
      "[[580  53]\n",
      " [ 55 433]]\n"
     ]
    },
    {
     "name": "stderr",
     "output_type": "stream",
     "text": [
      "\n"
     ]
    }
   ],
   "source": [
    "y_pred_ngrams = clf_ngrams.predict(x_test)\n",
    "\n",
    "classification_report_ngrams = metrics.classification_report(y_test, y_pred_ngrams)\n",
    "confusion_matrix_ngrams = metrics.confusion_matrix(y_test, y_pred_ngrams)\n",
    "\n",
    "print(classification_report_ngrams)\n",
    "print(confusion_matrix_ngrams)"
   ]
  },
  {
   "cell_type": "code",
   "execution_count": 19,
   "id": "3938aea5",
   "metadata": {},
   "outputs": [],
   "source": [
    "# Use the best parameters found in cross-validation during training the base model.\n",
    "clf_ngrams.set_hyperparameters(s=best_s, l=best_l, p=best_p)"
   ]
  },
  {
   "cell_type": "code",
   "execution_count": 20,
   "id": "85218fd2",
   "metadata": {},
   "outputs": [
    {
     "name": "stderr",
     "output_type": "stream",
     "text": [
      "Classification: 100%|█████████████████████████████████████████████| 1121/1121 [01:58<00:00,  9.43it/s]"
     ]
    },
    {
     "name": "stdout",
     "output_type": "stream",
     "text": [
      "              precision    recall  f1-score   support\n",
      "\n",
      "    negative       0.91      0.93      0.92       633\n",
      "    positive       0.90      0.88      0.89       488\n",
      "\n",
      "    accuracy                           0.91      1121\n",
      "   macro avg       0.91      0.90      0.91      1121\n",
      "weighted avg       0.91      0.91      0.91      1121\n",
      "\n",
      "[[586  47]\n",
      " [ 57 431]]\n"
     ]
    },
    {
     "name": "stderr",
     "output_type": "stream",
     "text": [
      "\n"
     ]
    }
   ],
   "source": [
    "y_pred_ngrams_best = clf_ngrams.predict(x_test)\n",
    "\n",
    "classification_report_ngrams_best = metrics.classification_report(\n",
    "    y_test, y_pred_ngrams_best\n",
    ")\n",
    "confusion_matrix_ngrams_best = metrics.confusion_matrix(y_test, y_pred_ngrams_best)\n",
    "\n",
    "print(classification_report_ngrams_best)\n",
    "print(confusion_matrix_ngrams_best)"
   ]
  },
  {
   "cell_type": "code",
   "execution_count": 21,
   "id": "81e7894c",
   "metadata": {},
   "outputs": [],
   "source": [
    "clf_ngrams.save()"
   ]
  },
  {
   "cell_type": "code",
   "execution_count": 22,
   "id": "d42f9aab",
   "metadata": {},
   "outputs": [],
   "source": [
    "Live_Test.run(clf_ngrams, x_test, y_test, 9876)"
   ]
  }
 ],
 "metadata": {
  "kernelspec": {
   "display_name": "Python 3 (ipykernel)",
   "language": "python",
   "name": "python3"
  },
  "language_info": {
   "codemirror_mode": {
    "name": "ipython",
    "version": 3
   },
   "file_extension": ".py",
   "mimetype": "text/x-python",
   "name": "python",
   "nbconvert_exporter": "python",
   "pygments_lexer": "ipython3",
   "version": "3.7.8"
  }
 },
 "nbformat": 4,
 "nbformat_minor": 5
}
